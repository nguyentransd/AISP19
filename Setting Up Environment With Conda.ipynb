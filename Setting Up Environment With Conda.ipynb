{
 "cells": [
  {
   "cell_type": "markdown",
   "metadata": {},
   "source": [
    "# Setting Up Virtual Environment with (Mini) Conda"
   ]
  },
  {
   "cell_type": "markdown",
   "metadata": {},
   "source": [
    "This is a tutorial/simple explanation of setting up an environment with Conda. <br><br>\n",
    "__NOTE:__ <br>\n",
    "- I am currently running Windows so I will refer to \"Start Menu\" but for other OS, this is equivalent to Applications <br>\n",
    "- Same with Command Prompt = Terminal\n",
    "- % command , % means anything after is an input you type in @ command prompt/term"
   ]
  },
  {
   "cell_type": "code",
   "execution_count": null,
   "metadata": {},
   "outputs": [],
   "source": [
    "In a rush & want to go straight to steps? \n",
    "All steps will be in gray highlights like this one\n"
   ]
  },
  {
   "cell_type": "markdown",
   "metadata": {},
   "source": [
    "If you don't mind reading through, the extra fluff is in markdown (white background, like this one!) <br>\n",
    "If you run into any problems, google is your best friend! We will be using using Anaconda Distribution and discuss its two products -- Conda & Mini-conda."
   ]
  },
  {
   "cell_type": "markdown",
   "metadata": {},
   "source": [
    "## Conda or Mini-Conda?\n",
    "\n",
    "__Conda__: A package, dependency and environment management.\n",
    "- User-friendly/GUI\n",
    "- Various pre-installed packages/libs\n",
    "- Drawback: Slow on already slow/old computer\n",
    "\n",
    "__Mini-Conda__: Only a package manager + Python + few pre-installed packages\n",
    "- No GUI, use terminal to create an environment / install packages\n",
    "- More difficult if not familiar with CLI (cmd line interface)\n",
    "\n",
    "Based on past experiences, I will install Mini-Conda for this tutorial bc:\n",
    "1. lot faster to run\n",
    "2. for practice writing to terminal\n",
    "3. learn more of what's under the hood\n",
    "4. lots of pre-installed packages that we will NOT use."
   ]
  },
  {
   "cell_type": "markdown",
   "metadata": {},
   "source": [
    "## Programming Language: Python\n",
    "Why? User-friendly yet flexible/multi-purposeful\n",
    "- pre-installed in most Linux, Unix, & (all) macOS\n",
    "- Windows: not pre-installed but no need to grab from their website.\n",
    "- Installing Miniconda will install Python too.\n",
    "\n",
    "<br> \n",
    "\n",
    "[Mini-Conda Installer](https://conda.io/en/latest/miniconda.html)"
   ]
  },
  {
   "cell_type": "code",
   "execution_count": null,
   "metadata": {
    "raw_mimetype": "text/html"
   },
   "outputs": [],
   "source": [
    "\n",
    "[1] Install Mini-Conda v3.7 using the link above. "
   ]
  },
  {
   "cell_type": "code",
   "execution_count": null,
   "metadata": {},
   "outputs": [],
   "source": [
    "\n",
    "[2] Go to Start Menu > 'Anaconda Prompt'"
   ]
  },
  {
   "cell_type": "markdown",
   "metadata": {},
   "source": [
    "A terminal will pop up in your home/root directory (you can change it to a different directory if wanted)<br>\n",
    "It should look similar to mine: <br>\n",
    "**(base) D:\\ nguye >**\n",
    "(base) means in the root environment. It is not a virtual environment (more on that later)\n",
    "___\n",
    "Install the package, Jupyter Notebook. It is a powerful tool to integrate code and its output into a single document. <br>You're looking at an example right now!"
   ]
  },
  {
   "cell_type": "code",
   "execution_count": null,
   "metadata": {},
   "outputs": [],
   "source": [
    "\n",
    "[3] (base) D:\\nguye> $ conda install jupyter //press y to proceed "
   ]
  },
  {
   "cell_type": "markdown",
   "metadata": {},
   "source": [
    "___\n",
    "Install the package, nb_conda. Will explain later. Link to the [docs](http://docs.continuum.io/anaconda/user-guide/tasks/use-jupyter-notebook-extensions/#id5)."
   ]
  },
  {
   "cell_type": "code",
   "execution_count": null,
   "metadata": {},
   "outputs": [],
   "source": [
    "[4] (base) D:\\nguye> $ conda install nb_conda"
   ]
  },
  {
   "cell_type": "markdown",
   "metadata": {},
   "source": [
    "___\n",
    "Now, create a virtual environment."
   ]
  },
  {
   "cell_type": "code",
   "execution_count": null,
   "metadata": {},
   "outputs": [],
   "source": [
    "(base) D:\\nguye> $ conda create -n FirstLook //press y to proceed "
   ]
  },
  {
   "cell_type": "markdown",
   "metadata": {},
   "source": [
    "\n",
    "Here, you are telling conda to create a new environment named FirstLook.\n",
    "___\n"
   ]
  },
  {
   "cell_type": "code",
   "execution_count": null,
   "metadata": {},
   "outputs": [],
   "source": [
    "[6] (base) D:\\nguye> % conda activate FirstLook \n",
    " output: (FirstLook) D:\\nguye> \n",
    " \n",
    "[7] % conda deactivate \n",
    " output: (base) D:\\nguye> "
   ]
  },
  {
   "cell_type": "markdown",
   "metadata": {},
   "source": [
    "### Ok, so why create a virtual environment per project? Prevent problems by isolating projects. <br>\n",
    "- We've mentioned packages a couple times and how we use them for our projects. <br>\n",
    "- If we don't make a virt env. per proj, we will use the same package versions for all. <br>\n",
    "- Might not sound like a big deal at first, but what if ProjectA can only run on exPackage v1 while Project B rns on exPackage v2? This will be an issue. <br>\n",
    "- There are other benefits for using a virtenv (you can read about that elsewhere). This practice goes for any other general programming projects."
   ]
  },
  {
   "cell_type": "code",
   "execution_count": null,
   "metadata": {
    "code_folding": []
   },
   "outputs": [],
   "source": [
    "[8] Make new directory for project. (can do via terminal or file explorer)\n",
    "[9] Go to new directory \n",
    "    (base) D:\\nguye\\AISP19 \n",
    "    \n",
    "    Open Jupyter Notebook \n",
    "[10] (base) D:\\nguye\\AISP19 % jupyter notebook "
   ]
  },
  {
   "cell_type": "markdown",
   "metadata": {},
   "source": [
    "A notebook server starts. The notebook list is empty because 'AISP19' is an empty directory. <br>\n",
    "- You will see four tabs (Files, Running, Clusters, Conda)<br>\n",
    "- The script ran earlier, 'conda install nb_conda' installed extensions that added the tab: 'Conda' <br>\n",
    "- Here, you can manage your virtual environments and packages. <br>\n",
    "- *Note: You have to be in (base) environment to use this. Problem lies about the kernels and there are ways to config but you will have to go thru src files.\n"
   ]
  },
  {
   "cell_type": "markdown",
   "metadata": {},
   "source": [
    "I mentioned in the beginning that Mini-conda only installs a few packages+Python. <br>\n",
    "- Upon creating an environment, it will install these \"default\" packages. <br>\n",
    "- That means, we must re-install ones like 'jupyter' Doesn't this seem redundant? <br>\n",
    "- You can fix this by editing the config file (sample below)\n",
    "    - (if you don't have it, must create a .condarc file and put in root directory )\n",
    "    - file location: D:\\nguye\\.condarc\n",
    "    <br>\n",
    "    \n",
    "__Note:__ The lines with '+' were added by me. For now, I only added jupyter and nb_conda but as we continue to make other projects, we will edit this file to include more!"
   ]
  },
  {
   "cell_type": "code",
   "execution_count": null,
   "metadata": {},
   "outputs": [],
   "source": [
    "# This is a sample .condarc file.\n",
    "# It adds the r Anaconda.org channel and enables\n",
    "# the show_channel_urls option.\n",
    "\n",
    "# channel locations. These override conda defaults, i.e., conda will\n",
    "# search *only* the channels listed here, in the order given.\n",
    "# Use \"defaults\" to automatically include all default channels.\n",
    "# Non-url channels will be interpreted as Anaconda.org usernames\n",
    "# (this can be changed by modifying the channel_alias key; see below).\n",
    "# The default is just 'defaults'.\n",
    "channels:\n",
    "  - r\n",
    "  - defaults\n",
    "\n",
    "# Show channel URLs when displaying what is going to be downloaded\n",
    "# and in 'conda list'. The default is False.\n",
    "show_channel_urls: True\n",
    "\n",
    "+ # Default packages added by default when creating new environments\n",
    "+ create_default_packages:\n",
    "+    - jupyter\n",
    "\n",
    "\n",
    "# For more information about this file see:\n",
    "# https://conda.io/docs/user-guide/configuration/use-condarc.html"
   ]
  },
  {
   "cell_type": "code",
   "execution_count": null,
   "metadata": {},
   "outputs": [],
   "source": [
    "Every virt env you create from now on will include these files *Note that most packages will have dependencies to be installed too. This is when you confirm 'proceed y/n' to allow this. \n",
    "- This means that our env, FirstLook does not have 'jupyter'\n",
    "- You can check this by activating the environment & opening jupyter notebook\n",
    "- You can also check the list of packages"
   ]
  },
  {
   "cell_type": "code",
   "execution_count": null,
   "metadata": {},
   "outputs": [],
   "source": [
    "[11] (FirstLook) D:\\nguye> % jupyter notebook   // Will give you an error\n",
    "[12] (FirstLook) D:\\nguye> % conda list       // List all packages in current env"
   ]
  },
  {
   "cell_type": "markdown",
   "metadata": {},
   "source": [
    "From step 12, you will see that jupyter (and its dependencies) are not listed. <br>\n",
    "You can manually add it in with $ conda install jupyter (install pkg into current env <br>\n",
    "For practice, delete the environment and make a new one."
   ]
  },
  {
   "cell_type": "code",
   "execution_count": null,
   "metadata": {},
   "outputs": [],
   "source": [
    "[13] % conda remove --name FirstLook --all //IF THIS DOESN'T WORK, USE BELOW\n",
    "    alternative: % conda env remove --name FirstLook\n",
    "[14] % conda info --envs                     //Verify that the env was removed. Check file explorers too, may have empty dir.\n",
    "[15] % conda create -n FirstLook             //Make new directory, can verify this by looking thru list when at 'proceed y/n' \n",
    "[16] % conda activate FirstLook\n",
    "[17] % conda jupyter                         //Should work"
   ]
  },
  {
   "cell_type": "code",
   "execution_count": null,
   "metadata": {},
   "outputs": [],
   "source": []
  }
 ],
 "metadata": {
  "kernelspec": {
   "display_name": "Python 3",
   "language": "python",
   "name": "python3"
  },
  "language_info": {
   "codemirror_mode": {
    "name": "ipython",
    "version": 3
   },
   "file_extension": ".py",
   "mimetype": "text/x-python",
   "name": "python",
   "nbconvert_exporter": "python",
   "pygments_lexer": "ipython3",
   "version": "3.7.1"
  }
 },
 "nbformat": 4,
 "nbformat_minor": 2
}
